{
 "cells": [
  {
   "cell_type": "markdown",
   "metadata": {},
   "source": [
    "# 파이썬을 이용한 머신러닝, 딥러닝 실전 개발 입문\n",
    "\n",
    "\n",
    "### data 다운로드"
   ]
  },
  {
   "cell_type": "code",
   "execution_count": 1,
   "metadata": {},
   "outputs": [
    {
     "name": "stdout",
     "output_type": "stream",
     "text": [
      "saved test.png\n"
     ]
    }
   ],
   "source": [
    "import urllib.request\n",
    "\n",
    "url = \"http://uta.pw/shodou/img/28/214.png\"\n",
    "# for saving path\n",
    "savename = \"test.png\"\n",
    "\n",
    "urllib.request.urlretrieve(url, savename)\n",
    "print(\"saved \" + savename )"
   ]
  },
  {
   "cell_type": "markdown",
   "metadata": {},
   "source": [
    "[위에서 SSL에러가 발생한 경우](https://code.i-harness.com/ko-kr/q/1a8bce3)\n",
    "\n"
   ]
  },
  {
   "cell_type": "markdown",
   "metadata": {},
   "source": [
    "urlopen을 이용하여 파일에 저장"
   ]
  },
  {
   "cell_type": "code",
   "execution_count": 2,
   "metadata": {},
   "outputs": [
    {
     "name": "stdout",
     "output_type": "stream",
     "text": [
      "savedtest.png\n"
     ]
    }
   ],
   "source": [
    "import urllib.request\n",
    "\n",
    "url = \"http://uta.pw/shodou/img/28/214.png\"\n",
    "savename = \"test.png\"\n",
    "\n",
    "# download\n",
    "mem = urllib.request.urlopen(url).read()\n",
    "\n",
    "# 파일로 저장 b:binary\n",
    "with open(savename, mode='wb') as f:\n",
    "    f.write(mem)\n",
    "    print(\"saved \" + savename)"
   ]
  },
  {
   "cell_type": "code",
   "execution_count": null,
   "metadata": {},
   "outputs": [],
   "source": []
  }
 ],
 "metadata": {
  "kernelspec": {
   "display_name": "Python 3",
   "language": "python",
   "name": "python3"
  },
  "language_info": {
   "codemirror_mode": {
    "name": "ipython",
    "version": 3
   },
   "file_extension": ".py",
   "mimetype": "text/x-python",
   "name": "python",
   "nbconvert_exporter": "python",
   "pygments_lexer": "ipython3",
   "version": "3.6.4"
  }
 },
 "nbformat": 4,
 "nbformat_minor": 2
}
